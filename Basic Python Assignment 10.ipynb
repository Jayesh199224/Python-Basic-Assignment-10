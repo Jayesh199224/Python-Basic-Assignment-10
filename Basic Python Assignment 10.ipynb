{
 "cells": [
  {
   "cell_type": "code",
   "execution_count": null,
   "metadata": {},
   "outputs": [],
   "source": [
    "#1. How do you distinguish between shutil.copy() and shutil.copytree()?\n",
    "#ans-> While shutil.copy() will copy a single file, shutil.copytree() will copy an entire folder and every folder and file contained in it"
   ]
  },
  {
   "cell_type": "code",
   "execution_count": 2,
   "metadata": {},
   "outputs": [],
   "source": [
    "#2. What function is used to rename files??\n",
    "#ans-> os.rename() is used to rename files."
   ]
  },
  {
   "cell_type": "code",
   "execution_count": null,
   "metadata": {},
   "outputs": [],
   "source": [
    "#3. What is the difference between the delete functions in the send2trash and shutil modules?\n",
    "#ans-> The send2trash will send the fill or folder to the recycle bin where as shutil will permanently delete the file or folder."
   ]
  },
  {
   "cell_type": "code",
   "execution_count": null,
   "metadata": {},
   "outputs": [],
   "source": [
    "#4.ZipFile objects have a close() method just like File objects’ close() method. What ZipFile method is equivalent to File objects’ open() method?\n",
    "#ans-> with Zipfile(filename,mode) is the method equivalent to file object open method."
   ]
  },
  {
   "cell_type": "code",
   "execution_count": 60,
   "metadata": {},
   "outputs": [
    {
     "name": "stdout",
     "output_type": "stream",
     "text": [
      "Current Working Directory  D:\\INeuron\n",
      "D:\\INeuron\\Assignments\\Python assingments\n",
      "D:\\INeuron\\linear_reg\n",
      "Looking in D:\\INeuron\\Assignments\\Python assingments for files with extensions of  .py,.txt\n",
      "*** D:\\INeuron\\Assignments\\Python assingments ** ['.ipynb_checkpoints'] * ['Assignment_1.docx', 'Assignment_2.docx', 'Assignment_3.docx', 'Assignment_4.docx', 'Assignment_5 (1).docx', 'Assignment_5.docx', 'Assignment_6.docx', 'Assignment_8.docx', 'Assignment_9.docx', 'Basic Python Assignment 10.ipynb', 'Basic python assignment 2.docx', 'Basic Python Assignment 2.ipynb', 'Basic Python assignment 3.docx', 'Basic Python Assignment 4.docx', 'Basic Python Assignment 4.ipynb', 'Basic python assignment 5.ipynb', 'Basic Python Assignment 6.ipynb', 'Basic Python Assignment 9.ipynb', 'Basic Python Assignment_5.docx', 'python basic 1.docx', 'python basic assignment 1.ipynb', 'Python Basic Assignment 8.ipynb', 'Untitled16.ipynb']\n",
      "*** D:\\INeuron\\Assignments\\Python assingments\\.ipynb_checkpoints ** [] * ['Basic Python Assignment 10-checkpoint.ipynb', 'Basic Python Assignment 9-checkpoint.ipynb']\n"
     ]
    }
   ],
   "source": [
    "#5. Create a programme that searches a folder tree for files with a certain file extension (such as .pdf or .jpg). Copy these files from whatever location they are in to a new folder.\n",
    "\n",
    "\n",
    "import shutil,os\n",
    "\n",
    "def selectiveCopy(folder,extensions,destFolder):\n",
    "    folder=os.path.abspath(folder)\n",
    "    print(folder)\n",
    "    destFolder=os.path.abspath(destFolder)\n",
    "    print(destFolder)\n",
    "    print('Looking in '+ folder+ ' for files with extensions of ', ','.join(extensions))\n",
    "    for foldername,subfolders,filenames in os.walk(folder):\n",
    "        print(\"***\",foldername, \"**\", subfolders , \"*\",filenames)\n",
    "        for file in filenames:\n",
    "            name, extension = os.path.splitext(file)\n",
    "\n",
    "            if extension in extensions:\n",
    "                fileAbsPath = foldername + os.path.sep + file\n",
    "                print('Coping', fileAbsPath, 'to', destFolder)\n",
    "                shutil.copy(fileAbsPath, destFolder)\n",
    "    \n",
    "\n",
    "\n",
    "print(\"Current Working Directory \" , os.getcwd())\n",
    "os.chdir(\"D:\\\\INeuron\")\n",
    "extensions=['.py','.txt']\n",
    "folder='Assignments\\\\Python assingments'\n",
    "destFolder='linear_reg'\n",
    "selectiveCopy(folder, extensions, destFolder)"
   ]
  },
  {
   "cell_type": "code",
   "execution_count": 54,
   "metadata": {},
   "outputs": [],
   "source": []
  },
  {
   "cell_type": "code",
   "execution_count": 56,
   "metadata": {},
   "outputs": [],
   "source": []
  },
  {
   "cell_type": "code",
   "execution_count": null,
   "metadata": {},
   "outputs": [],
   "source": []
  }
 ],
 "metadata": {
  "kernelspec": {
   "display_name": "Python 3",
   "language": "python",
   "name": "python3"
  },
  "language_info": {
   "codemirror_mode": {
    "name": "ipython",
    "version": 3
   },
   "file_extension": ".py",
   "mimetype": "text/x-python",
   "name": "python",
   "nbconvert_exporter": "python",
   "pygments_lexer": "ipython3",
   "version": "3.8.5"
  }
 },
 "nbformat": 4,
 "nbformat_minor": 4
}
